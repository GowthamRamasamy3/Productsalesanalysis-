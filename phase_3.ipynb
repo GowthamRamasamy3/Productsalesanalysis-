{
 "cells": [
  {
   "cell_type": "code",
   "execution_count": 54,
   "metadata": {},
   "outputs": [],
   "source": [
    "import pandas as pd\n",
    "import numpy as np\n",
    "import pandas as pd\n",
    "import numpy as np\n",
    "import seaborn as sns\n",
    "import matplotlib.pyplot as plt\n",
    "from sklearn.metrics import mean_squared_error, r2_score\n",
    "from sklearn.model_selection import train_test_split"
   ]
  },
  {
   "cell_type": "code",
   "execution_count": 55,
   "metadata": {},
   "outputs": [
    {
     "data": {
      "text/html": [
       "<div>\n",
       "<style scoped>\n",
       "    .dataframe tbody tr th:only-of-type {\n",
       "        vertical-align: middle;\n",
       "    }\n",
       "\n",
       "    .dataframe tbody tr th {\n",
       "        vertical-align: top;\n",
       "    }\n",
       "\n",
       "    .dataframe thead th {\n",
       "        text-align: right;\n",
       "    }\n",
       "</style>\n",
       "<table border=\"1\" class=\"dataframe\">\n",
       "  <thead>\n",
       "    <tr style=\"text-align: right;\">\n",
       "      <th></th>\n",
       "      <th>Unnamed: 0</th>\n",
       "      <th>Date</th>\n",
       "      <th>Q-P1</th>\n",
       "      <th>Q-P2</th>\n",
       "      <th>Q-P3</th>\n",
       "      <th>Q-P4</th>\n",
       "      <th>S-P1</th>\n",
       "      <th>S-P2</th>\n",
       "      <th>S-P3</th>\n",
       "      <th>S-P4</th>\n",
       "    </tr>\n",
       "  </thead>\n",
       "  <tbody>\n",
       "    <tr>\n",
       "      <th>0</th>\n",
       "      <td>0</td>\n",
       "      <td>13-06-2010</td>\n",
       "      <td>5422</td>\n",
       "      <td>3725</td>\n",
       "      <td>576</td>\n",
       "      <td>907</td>\n",
       "      <td>17187.74</td>\n",
       "      <td>23616.50</td>\n",
       "      <td>3121.92</td>\n",
       "      <td>6466.91</td>\n",
       "    </tr>\n",
       "    <tr>\n",
       "      <th>1</th>\n",
       "      <td>1</td>\n",
       "      <td>14-06-2010</td>\n",
       "      <td>7047</td>\n",
       "      <td>779</td>\n",
       "      <td>3578</td>\n",
       "      <td>1574</td>\n",
       "      <td>22338.99</td>\n",
       "      <td>4938.86</td>\n",
       "      <td>19392.76</td>\n",
       "      <td>11222.62</td>\n",
       "    </tr>\n",
       "    <tr>\n",
       "      <th>2</th>\n",
       "      <td>2</td>\n",
       "      <td>15-06-2010</td>\n",
       "      <td>1572</td>\n",
       "      <td>2082</td>\n",
       "      <td>595</td>\n",
       "      <td>1145</td>\n",
       "      <td>4983.24</td>\n",
       "      <td>13199.88</td>\n",
       "      <td>3224.90</td>\n",
       "      <td>8163.85</td>\n",
       "    </tr>\n",
       "    <tr>\n",
       "      <th>3</th>\n",
       "      <td>3</td>\n",
       "      <td>16-06-2010</td>\n",
       "      <td>5657</td>\n",
       "      <td>2399</td>\n",
       "      <td>3140</td>\n",
       "      <td>1672</td>\n",
       "      <td>17932.69</td>\n",
       "      <td>15209.66</td>\n",
       "      <td>17018.80</td>\n",
       "      <td>11921.36</td>\n",
       "    </tr>\n",
       "    <tr>\n",
       "      <th>4</th>\n",
       "      <td>4</td>\n",
       "      <td>17-06-2010</td>\n",
       "      <td>3668</td>\n",
       "      <td>3207</td>\n",
       "      <td>2184</td>\n",
       "      <td>708</td>\n",
       "      <td>11627.56</td>\n",
       "      <td>20332.38</td>\n",
       "      <td>11837.28</td>\n",
       "      <td>5048.04</td>\n",
       "    </tr>\n",
       "  </tbody>\n",
       "</table>\n",
       "</div>"
      ],
      "text/plain": [
       "   Unnamed: 0        Date  Q-P1  Q-P2  Q-P3  Q-P4      S-P1      S-P2  \\\n",
       "0           0  13-06-2010  5422  3725   576   907  17187.74  23616.50   \n",
       "1           1  14-06-2010  7047   779  3578  1574  22338.99   4938.86   \n",
       "2           2  15-06-2010  1572  2082   595  1145   4983.24  13199.88   \n",
       "3           3  16-06-2010  5657  2399  3140  1672  17932.69  15209.66   \n",
       "4           4  17-06-2010  3668  3207  2184   708  11627.56  20332.38   \n",
       "\n",
       "       S-P3      S-P4  \n",
       "0   3121.92   6466.91  \n",
       "1  19392.76  11222.62  \n",
       "2   3224.90   8163.85  \n",
       "3  17018.80  11921.36  \n",
       "4  11837.28   5048.04  "
      ]
     },
     "execution_count": 55,
     "metadata": {},
     "output_type": "execute_result"
    }
   ],
   "source": [
    "# Load your dataset\n",
    "df = pd.read_csv('statsfinal.csv')\n",
    "df.head(5)"
   ]
  },
  {
   "cell_type": "code",
   "execution_count": 56,
   "metadata": {},
   "outputs": [],
   "source": [
    "#here Q1- Total unit sales of product 1\n",
    "#Q2- Total unit sales of product 2\n",
    "#Q3- Total unit sales of product 3\n",
    "#Q4- Total unit sales of product 4\n",
    "#S1- Total revenue from product 1\n",
    "#S2- Total revenue from product 2\n",
    "#S3- Total revenue from product 3\n",
    "#S4- Total revenue from product 4"
   ]
  },
  {
   "cell_type": "code",
   "execution_count": 57,
   "metadata": {},
   "outputs": [],
   "source": [
    "pd.options.display.max_columns=50\n",
    "sns.set(style=\"darkgrid\")"
   ]
  },
  {
   "cell_type": "code",
   "execution_count": 58,
   "metadata": {},
   "outputs": [
    {
     "data": {
      "text/plain": [
       "(4600, 10)"
      ]
     },
     "execution_count": 58,
     "metadata": {},
     "output_type": "execute_result"
    }
   ],
   "source": [
    "# Fethcing rows and columns\n",
    "df.shape"
   ]
  },
  {
   "cell_type": "code",
   "execution_count": 59,
   "metadata": {},
   "outputs": [
    {
     "data": {
      "text/plain": [
       "Index(['Unnamed: 0', 'Date', 'Q-P1', 'Q-P2', 'Q-P3', 'Q-P4', 'S-P1', 'S-P2',\n",
       "       'S-P3', 'S-P4'],\n",
       "      dtype='object')"
      ]
     },
     "execution_count": 59,
     "metadata": {},
     "output_type": "execute_result"
    }
   ],
   "source": [
    "# fetching column names\n",
    "df.columns"
   ]
  },
  {
   "cell_type": "code",
   "execution_count": 60,
   "metadata": {},
   "outputs": [
    {
     "name": "stdout",
     "output_type": "stream",
     "text": [
      "<class 'pandas.core.frame.DataFrame'>\n",
      "RangeIndex: 4600 entries, 0 to 4599\n",
      "Data columns (total 10 columns):\n",
      " #   Column      Non-Null Count  Dtype  \n",
      "---  ------      --------------  -----  \n",
      " 0   Unnamed: 0  4600 non-null   int64  \n",
      " 1   Date        4600 non-null   object \n",
      " 2   Q-P1        4600 non-null   int64  \n",
      " 3   Q-P2        4600 non-null   int64  \n",
      " 4   Q-P3        4600 non-null   int64  \n",
      " 5   Q-P4        4600 non-null   int64  \n",
      " 6   S-P1        4600 non-null   float64\n",
      " 7   S-P2        4600 non-null   float64\n",
      " 8   S-P3        4600 non-null   float64\n",
      " 9   S-P4        4600 non-null   float64\n",
      "dtypes: float64(4), int64(5), object(1)\n",
      "memory usage: 359.5+ KB\n"
     ]
    }
   ],
   "source": [
    "# basic info\n",
    "df.info()"
   ]
  },
  {
   "cell_type": "code",
   "execution_count": 61,
   "metadata": {},
   "outputs": [
    {
     "data": {
      "text/plain": [
       "Unnamed: 0    0\n",
       "Date          0\n",
       "Q-P1          0\n",
       "Q-P2          0\n",
       "Q-P3          0\n",
       "Q-P4          0\n",
       "S-P1          0\n",
       "S-P2          0\n",
       "S-P3          0\n",
       "S-P4          0\n",
       "dtype: int64"
      ]
     },
     "execution_count": 61,
     "metadata": {},
     "output_type": "execute_result"
    }
   ],
   "source": [
    "# Checking null values\n",
    "df.isnull().sum()"
   ]
  },
  {
   "cell_type": "code",
   "execution_count": 62,
   "metadata": {},
   "outputs": [
    {
     "data": {
      "text/plain": [
       "Unnamed: 0      int64\n",
       "Date           object\n",
       "Q-P1            int64\n",
       "Q-P2            int64\n",
       "Q-P3            int64\n",
       "Q-P4            int64\n",
       "S-P1          float64\n",
       "S-P2          float64\n",
       "S-P3          float64\n",
       "S-P4          float64\n",
       "dtype: object"
      ]
     },
     "execution_count": 62,
     "metadata": {},
     "output_type": "execute_result"
    }
   ],
   "source": [
    "# Checking Dtypes\n",
    "df.dtypes"
   ]
  },
  {
   "cell_type": "code",
   "execution_count": 63,
   "metadata": {},
   "outputs": [
    {
     "data": {
      "text/plain": [
       "0"
      ]
     },
     "execution_count": 63,
     "metadata": {},
     "output_type": "execute_result"
    }
   ],
   "source": [
    "df.duplicated().sum()"
   ]
  },
  {
   "cell_type": "code",
   "execution_count": 64,
   "metadata": {},
   "outputs": [
    {
     "data": {
      "text/html": [
       "<div>\n",
       "<style scoped>\n",
       "    .dataframe tbody tr th:only-of-type {\n",
       "        vertical-align: middle;\n",
       "    }\n",
       "\n",
       "    .dataframe tbody tr th {\n",
       "        vertical-align: top;\n",
       "    }\n",
       "\n",
       "    .dataframe thead th {\n",
       "        text-align: right;\n",
       "    }\n",
       "</style>\n",
       "<table border=\"1\" class=\"dataframe\">\n",
       "  <thead>\n",
       "    <tr style=\"text-align: right;\">\n",
       "      <th></th>\n",
       "      <th>count</th>\n",
       "      <th>mean</th>\n",
       "      <th>std</th>\n",
       "      <th>min</th>\n",
       "      <th>25%</th>\n",
       "      <th>50%</th>\n",
       "      <th>75%</th>\n",
       "      <th>max</th>\n",
       "    </tr>\n",
       "  </thead>\n",
       "  <tbody>\n",
       "    <tr>\n",
       "      <th>Unnamed: 0</th>\n",
       "      <td>4600.0</td>\n",
       "      <td>2299.500000</td>\n",
       "      <td>1328.049949</td>\n",
       "      <td>0.00</td>\n",
       "      <td>1149.750</td>\n",
       "      <td>2299.500</td>\n",
       "      <td>3449.250</td>\n",
       "      <td>4599.00</td>\n",
       "    </tr>\n",
       "    <tr>\n",
       "      <th>Q-P1</th>\n",
       "      <td>4600.0</td>\n",
       "      <td>4121.849130</td>\n",
       "      <td>2244.271323</td>\n",
       "      <td>254.00</td>\n",
       "      <td>2150.500</td>\n",
       "      <td>4137.000</td>\n",
       "      <td>6072.000</td>\n",
       "      <td>7998.00</td>\n",
       "    </tr>\n",
       "    <tr>\n",
       "      <th>Q-P2</th>\n",
       "      <td>4600.0</td>\n",
       "      <td>2130.281522</td>\n",
       "      <td>1089.783705</td>\n",
       "      <td>251.00</td>\n",
       "      <td>1167.750</td>\n",
       "      <td>2134.000</td>\n",
       "      <td>3070.250</td>\n",
       "      <td>3998.00</td>\n",
       "    </tr>\n",
       "    <tr>\n",
       "      <th>Q-P3</th>\n",
       "      <td>4600.0</td>\n",
       "      <td>3145.740000</td>\n",
       "      <td>1671.832231</td>\n",
       "      <td>250.00</td>\n",
       "      <td>1695.750</td>\n",
       "      <td>3202.500</td>\n",
       "      <td>4569.000</td>\n",
       "      <td>6000.00</td>\n",
       "    </tr>\n",
       "    <tr>\n",
       "      <th>Q-P4</th>\n",
       "      <td>4600.0</td>\n",
       "      <td>1123.500000</td>\n",
       "      <td>497.385676</td>\n",
       "      <td>250.00</td>\n",
       "      <td>696.000</td>\n",
       "      <td>1136.500</td>\n",
       "      <td>1544.000</td>\n",
       "      <td>2000.00</td>\n",
       "    </tr>\n",
       "    <tr>\n",
       "      <th>S-P1</th>\n",
       "      <td>4600.0</td>\n",
       "      <td>13066.261743</td>\n",
       "      <td>7114.340094</td>\n",
       "      <td>805.18</td>\n",
       "      <td>6817.085</td>\n",
       "      <td>13114.290</td>\n",
       "      <td>19248.240</td>\n",
       "      <td>25353.66</td>\n",
       "    </tr>\n",
       "    <tr>\n",
       "      <th>S-P2</th>\n",
       "      <td>4600.0</td>\n",
       "      <td>13505.984848</td>\n",
       "      <td>6909.228687</td>\n",
       "      <td>1591.34</td>\n",
       "      <td>7403.535</td>\n",
       "      <td>13529.560</td>\n",
       "      <td>19465.385</td>\n",
       "      <td>25347.32</td>\n",
       "    </tr>\n",
       "    <tr>\n",
       "      <th>S-P3</th>\n",
       "      <td>4600.0</td>\n",
       "      <td>17049.910800</td>\n",
       "      <td>9061.330694</td>\n",
       "      <td>1355.00</td>\n",
       "      <td>9190.965</td>\n",
       "      <td>17357.550</td>\n",
       "      <td>24763.980</td>\n",
       "      <td>32520.00</td>\n",
       "    </tr>\n",
       "    <tr>\n",
       "      <th>S-P4</th>\n",
       "      <td>4600.0</td>\n",
       "      <td>8010.555000</td>\n",
       "      <td>3546.359869</td>\n",
       "      <td>1782.50</td>\n",
       "      <td>4962.480</td>\n",
       "      <td>8103.245</td>\n",
       "      <td>11008.720</td>\n",
       "      <td>14260.00</td>\n",
       "    </tr>\n",
       "  </tbody>\n",
       "</table>\n",
       "</div>"
      ],
      "text/plain": [
       "             count          mean          std      min       25%        50%  \\\n",
       "Unnamed: 0  4600.0   2299.500000  1328.049949     0.00  1149.750   2299.500   \n",
       "Q-P1        4600.0   4121.849130  2244.271323   254.00  2150.500   4137.000   \n",
       "Q-P2        4600.0   2130.281522  1089.783705   251.00  1167.750   2134.000   \n",
       "Q-P3        4600.0   3145.740000  1671.832231   250.00  1695.750   3202.500   \n",
       "Q-P4        4600.0   1123.500000   497.385676   250.00   696.000   1136.500   \n",
       "S-P1        4600.0  13066.261743  7114.340094   805.18  6817.085  13114.290   \n",
       "S-P2        4600.0  13505.984848  6909.228687  1591.34  7403.535  13529.560   \n",
       "S-P3        4600.0  17049.910800  9061.330694  1355.00  9190.965  17357.550   \n",
       "S-P4        4600.0   8010.555000  3546.359869  1782.50  4962.480   8103.245   \n",
       "\n",
       "                  75%       max  \n",
       "Unnamed: 0   3449.250   4599.00  \n",
       "Q-P1         6072.000   7998.00  \n",
       "Q-P2         3070.250   3998.00  \n",
       "Q-P3         4569.000   6000.00  \n",
       "Q-P4         1544.000   2000.00  \n",
       "S-P1        19248.240  25353.66  \n",
       "S-P2        19465.385  25347.32  \n",
       "S-P3        24763.980  32520.00  \n",
       "S-P4        11008.720  14260.00  "
      ]
     },
     "execution_count": 64,
     "metadata": {},
     "output_type": "execute_result"
    }
   ],
   "source": [
    "## Basic statistical info\n",
    "df.describe().T"
   ]
  },
  {
   "cell_type": "code",
   "execution_count": 65,
   "metadata": {},
   "outputs": [
    {
     "name": "stderr",
     "output_type": "stream",
     "text": [
      "C:\\Users\\Gowtham\\AppData\\Local\\Temp\\ipykernel_19432\\2214987012.py:5: UserWarning: Parsing dates in DD/MM/YYYY format when dayfirst=False (the default) was specified. This may lead to inconsistently parsed dates! Specify a format to ensure consistent parsing.\n",
      "  df['Date'] = pd.to_datetime(df['Date'], errors='coerce')\n"
     ]
    },
    {
     "data": {
      "text/html": [
       "<div>\n",
       "<style scoped>\n",
       "    .dataframe tbody tr th:only-of-type {\n",
       "        vertical-align: middle;\n",
       "    }\n",
       "\n",
       "    .dataframe tbody tr th {\n",
       "        vertical-align: top;\n",
       "    }\n",
       "\n",
       "    .dataframe thead th {\n",
       "        text-align: right;\n",
       "    }\n",
       "</style>\n",
       "<table border=\"1\" class=\"dataframe\">\n",
       "  <thead>\n",
       "    <tr style=\"text-align: right;\">\n",
       "      <th></th>\n",
       "      <th>Unnamed: 0</th>\n",
       "      <th>Date</th>\n",
       "      <th>Q-P1</th>\n",
       "      <th>Q-P2</th>\n",
       "      <th>Q-P3</th>\n",
       "      <th>Q-P4</th>\n",
       "      <th>S-P1</th>\n",
       "      <th>S-P2</th>\n",
       "      <th>S-P3</th>\n",
       "      <th>S-P4</th>\n",
       "      <th>month</th>\n",
       "      <th>day</th>\n",
       "      <th>dayoftheweek</th>\n",
       "      <th>year</th>\n",
       "    </tr>\n",
       "  </thead>\n",
       "  <tbody>\n",
       "    <tr>\n",
       "      <th>2837</th>\n",
       "      <td>2837</td>\n",
       "      <td>2018-01-04</td>\n",
       "      <td>4687</td>\n",
       "      <td>907</td>\n",
       "      <td>4835</td>\n",
       "      <td>1500</td>\n",
       "      <td>14857.79</td>\n",
       "      <td>5750.38</td>\n",
       "      <td>26205.7</td>\n",
       "      <td>10695.0</td>\n",
       "      <td>January</td>\n",
       "      <td>Thursday</td>\n",
       "      <td>3</td>\n",
       "      <td>2018</td>\n",
       "    </tr>\n",
       "  </tbody>\n",
       "</table>\n",
       "</div>"
      ],
      "text/plain": [
       "      Unnamed: 0       Date  Q-P1  Q-P2  Q-P3  Q-P4      S-P1     S-P2  \\\n",
       "2837        2837 2018-01-04  4687   907  4835  1500  14857.79  5750.38   \n",
       "\n",
       "         S-P3     S-P4    month       day  dayoftheweek  year  \n",
       "2837  26205.7  10695.0  January  Thursday             3  2018  "
      ]
     },
     "execution_count": 65,
     "metadata": {},
     "output_type": "execute_result"
    }
   ],
   "source": [
    "df.sample(2)\n",
    "# Changing dtype \n",
    "from datetime import datetime as dt\n",
    "df[df[\"Date\"]==\"31-9-2010\"]\n",
    "df['Date'] = pd.to_datetime(df['Date'], errors='coerce')\n",
    "df[df['Date'].isnull()]\n",
    "## Filling the NaT  values with average of time\n",
    "df[\"Date\"].fillna(df[\"Date\"].mean(),inplace=True)\n",
    "df['Date'].isnull().sum()\n",
    "#fetching month,day of week, weekday\n",
    "df[\"month\"]=df[\"Date\"].dt.month_name()\n",
    "df[\"day\"]=df[\"Date\"].dt.day_name()\n",
    "df[\"dayoftheweek\"]=df[\"Date\"].dt.weekday\n",
    "df[\"year\"]=df[\"Date\"].dt.year\n",
    "df.sample()"
   ]
  },
  {
   "cell_type": "code",
   "execution_count": 66,
   "metadata": {},
   "outputs": [
    {
     "data": {
      "text/plain": [
       "Unnamed: 0               int64\n",
       "Date            datetime64[ns]\n",
       "Q-P1                     int64\n",
       "Q-P2                     int64\n",
       "Q-P3                     int64\n",
       "Q-P4                     int64\n",
       "S-P1                   float64\n",
       "S-P2                   float64\n",
       "S-P3                   float64\n",
       "S-P4                   float64\n",
       "month                   object\n",
       "day                     object\n",
       "dayoftheweek             int64\n",
       "year                     int64\n",
       "dtype: object"
      ]
     },
     "execution_count": 66,
     "metadata": {},
     "output_type": "execute_result"
    }
   ],
   "source": [
    "df.dtypes"
   ]
  },
  {
   "cell_type": "code",
   "execution_count": 67,
   "metadata": {},
   "outputs": [],
   "source": [
    "# Create lag features for the target variable (e.g., lag of S-P1)\n",
    "num_lags = 7  # You can adjust this value based on your dataset\n",
    "for i in range(1, num_lags + 1):\n",
    "    df[f'S-P1_lag_{i}'] = df['S-P1'].shift(i)\n",
    "\n",
    "# Drop rows with missing values created by the lag\n",
    "df.dropna(inplace=True)\n"
   ]
  },
  {
   "cell_type": "code",
   "execution_count": 68,
   "metadata": {},
   "outputs": [],
   "source": [
    "\n",
    "X = df.drop('S-P1', axis=1)  # Features\n",
    "y = df['S-P1']  # Target variable\n",
    "\n"
   ]
  },
  {
   "cell_type": "code",
   "execution_count": 69,
   "metadata": {},
   "outputs": [],
   "source": [
    "X = df.drop(['S-P1', 'Date'], axis=1)  # Features without 'S-P1' and 'Date'\n",
    "y = df['S-P1']  # Target variable\n"
   ]
  },
  {
   "cell_type": "code",
   "execution_count": 70,
   "metadata": {},
   "outputs": [],
   "source": [
    "X_train, X_test, y_train, y_test = train_test_split(X, y, test_size=0.2, random_state=42)"
   ]
  },
  {
   "cell_type": "code",
   "execution_count": 71,
   "metadata": {},
   "outputs": [],
   "source": [
    "# Separate features (Q1-Q4) and target variables (S1-S4)\n",
    "X = df[['Q-P1', 'Q-P2', 'Q-P3', 'Q-P4']]\n",
    "y = df[['S-P1', 'S-P2', 'S-P3', 'S-P4']]\n",
    "\n",
    "# Split the data into training and testing sets\n",
    "X_train, X_test, y_train, y_test = train_test_split(X, y, test_size=0.2, random_state=42)\n"
   ]
  },
  {
   "cell_type": "code",
   "execution_count": 72,
   "metadata": {},
   "outputs": [
    {
     "data": {
      "text/html": [
       "<style>#sk-container-id-3 {color: black;}#sk-container-id-3 pre{padding: 0;}#sk-container-id-3 div.sk-toggleable {background-color: white;}#sk-container-id-3 label.sk-toggleable__label {cursor: pointer;display: block;width: 100%;margin-bottom: 0;padding: 0.3em;box-sizing: border-box;text-align: center;}#sk-container-id-3 label.sk-toggleable__label-arrow:before {content: \"▸\";float: left;margin-right: 0.25em;color: #696969;}#sk-container-id-3 label.sk-toggleable__label-arrow:hover:before {color: black;}#sk-container-id-3 div.sk-estimator:hover label.sk-toggleable__label-arrow:before {color: black;}#sk-container-id-3 div.sk-toggleable__content {max-height: 0;max-width: 0;overflow: hidden;text-align: left;background-color: #f0f8ff;}#sk-container-id-3 div.sk-toggleable__content pre {margin: 0.2em;color: black;border-radius: 0.25em;background-color: #f0f8ff;}#sk-container-id-3 input.sk-toggleable__control:checked~div.sk-toggleable__content {max-height: 200px;max-width: 100%;overflow: auto;}#sk-container-id-3 input.sk-toggleable__control:checked~label.sk-toggleable__label-arrow:before {content: \"▾\";}#sk-container-id-3 div.sk-estimator input.sk-toggleable__control:checked~label.sk-toggleable__label {background-color: #d4ebff;}#sk-container-id-3 div.sk-label input.sk-toggleable__control:checked~label.sk-toggleable__label {background-color: #d4ebff;}#sk-container-id-3 input.sk-hidden--visually {border: 0;clip: rect(1px 1px 1px 1px);clip: rect(1px, 1px, 1px, 1px);height: 1px;margin: -1px;overflow: hidden;padding: 0;position: absolute;width: 1px;}#sk-container-id-3 div.sk-estimator {font-family: monospace;background-color: #f0f8ff;border: 1px dotted black;border-radius: 0.25em;box-sizing: border-box;margin-bottom: 0.5em;}#sk-container-id-3 div.sk-estimator:hover {background-color: #d4ebff;}#sk-container-id-3 div.sk-parallel-item::after {content: \"\";width: 100%;border-bottom: 1px solid gray;flex-grow: 1;}#sk-container-id-3 div.sk-label:hover label.sk-toggleable__label {background-color: #d4ebff;}#sk-container-id-3 div.sk-serial::before {content: \"\";position: absolute;border-left: 1px solid gray;box-sizing: border-box;top: 0;bottom: 0;left: 50%;z-index: 0;}#sk-container-id-3 div.sk-serial {display: flex;flex-direction: column;align-items: center;background-color: white;padding-right: 0.2em;padding-left: 0.2em;position: relative;}#sk-container-id-3 div.sk-item {position: relative;z-index: 1;}#sk-container-id-3 div.sk-parallel {display: flex;align-items: stretch;justify-content: center;background-color: white;position: relative;}#sk-container-id-3 div.sk-item::before, #sk-container-id-3 div.sk-parallel-item::before {content: \"\";position: absolute;border-left: 1px solid gray;box-sizing: border-box;top: 0;bottom: 0;left: 50%;z-index: -1;}#sk-container-id-3 div.sk-parallel-item {display: flex;flex-direction: column;z-index: 1;position: relative;background-color: white;}#sk-container-id-3 div.sk-parallel-item:first-child::after {align-self: flex-end;width: 50%;}#sk-container-id-3 div.sk-parallel-item:last-child::after {align-self: flex-start;width: 50%;}#sk-container-id-3 div.sk-parallel-item:only-child::after {width: 0;}#sk-container-id-3 div.sk-dashed-wrapped {border: 1px dashed gray;margin: 0 0.4em 0.5em 0.4em;box-sizing: border-box;padding-bottom: 0.4em;background-color: white;}#sk-container-id-3 div.sk-label label {font-family: monospace;font-weight: bold;display: inline-block;line-height: 1.2em;}#sk-container-id-3 div.sk-label-container {text-align: center;}#sk-container-id-3 div.sk-container {/* jupyter's `normalize.less` sets `[hidden] { display: none; }` but bootstrap.min.css set `[hidden] { display: none !important; }` so we also need the `!important` here to be able to override the default hidden behavior on the sphinx rendered scikit-learn.org. See: https://github.com/scikit-learn/scikit-learn/issues/21755 */display: inline-block !important;position: relative;}#sk-container-id-3 div.sk-text-repr-fallback {display: none;}</style><div id=\"sk-container-id-3\" class=\"sk-top-container\"><div class=\"sk-text-repr-fallback\"><pre>LinearRegression()</pre><b>In a Jupyter environment, please rerun this cell to show the HTML representation or trust the notebook. <br />On GitHub, the HTML representation is unable to render, please try loading this page with nbviewer.org.</b></div><div class=\"sk-container\" hidden><div class=\"sk-item\"><div class=\"sk-estimator sk-toggleable\"><input class=\"sk-toggleable__control sk-hidden--visually\" id=\"sk-estimator-id-3\" type=\"checkbox\" checked><label for=\"sk-estimator-id-3\" class=\"sk-toggleable__label sk-toggleable__label-arrow\">LinearRegression</label><div class=\"sk-toggleable__content\"><pre>LinearRegression()</pre></div></div></div></div></div>"
      ],
      "text/plain": [
       "LinearRegression()"
      ]
     },
     "execution_count": 72,
     "metadata": {},
     "output_type": "execute_result"
    }
   ],
   "source": [
    "# Create a Linear Regression model\n",
    "model = LinearRegression()\n",
    "\n",
    "# Train the model on the training data\n",
    "model.fit(X_train, y_train)"
   ]
  },
  {
   "cell_type": "code",
   "execution_count": 73,
   "metadata": {},
   "outputs": [],
   "source": [
    "# Make predictions on the test data\n",
    "y_pred = model.predict(X_test)\n"
   ]
  },
  {
   "cell_type": "code",
   "execution_count": 74,
   "metadata": {},
   "outputs": [
    {
     "name": "stdout",
     "output_type": "stream",
     "text": [
      "Mean Squared Error: 1.0539070830897841e-23\n",
      "R-squared: 1.0\n"
     ]
    }
   ],
   "source": [
    "# Calculate Mean Squared Error\n",
    "mse = mean_squared_error(y_test, y_pred)\n",
    "\n",
    "# Calculate R-squared\n",
    "r2 = r2_score(y_test, y_pred)\n",
    "\n",
    "print(\"Mean Squared Error:\", mse)\n",
    "print(\"R-squared:\", r2)\n"
   ]
  },
  {
   "cell_type": "code",
   "execution_count": 76,
   "metadata": {},
   "outputs": [
    {
     "name": "stdout",
     "output_type": "stream",
     "text": [
      "Predicted Revenue: [[ 3170. 12680. 16260. 28520.]]\n"
     ]
    },
    {
     "name": "stderr",
     "output_type": "stream",
     "text": [
      "C:\\Users\\Gowtham\\AppData\\Local\\Packages\\PythonSoftwareFoundation.Python.3.10_qbz5n2kfra8p0\\LocalCache\\local-packages\\Python310\\site-packages\\sklearn\\base.py:464: UserWarning: X does not have valid feature names, but LinearRegression was fitted with feature names\n",
      "  warnings.warn(\n"
     ]
    }
   ],
   "source": [
    "# Example: Predict future sales for a new set of product quantities (Q1-Q4)\n",
    "new_data = np.array([[1000, 2000, 3000, 4000]])  # Replace with your desired input\n",
    "predicted_revenue = model.predict(new_data)\n",
    "print(\"Predicted Revenue:\", predicted_revenue)\n"
   ]
  },
  {
   "cell_type": "code",
   "execution_count": 78,
   "metadata": {},
   "outputs": [
    {
     "data": {
      "image/png": "[encoded data removed]",
      "text/plain": [
       "<Figure size 640x480 with 1 Axes>"
      ]
     },
     "metadata": {},
     "output_type": "display_data"
    }
   ],
   "source": [
    "# Scatter plot for S-P1 (Product 1)\n",
    "plt.scatter(y_test['S-P1'], y_pred[:, 0])\n",
    "plt.xlabel(\"Actual Revenue (S-P1)\")\n",
    "plt.ylabel(\"Predicted Revenue (S-P1)\")\n",
    "plt.title(\"Predicted vs. Actual Revenue (S-P1)\")\n",
    "plt.show()\n",
    "\n",
    "# Repeat the above code for S-P2, S-P3, and S-P4 to create scatter plots for each product.\n"
   ]
  },
  {
   "cell_type": "code",
   "execution_count": 79,
   "metadata": {},
   "outputs": [
    {
     "data": {
      "image/png": "[encoded data removed]",
      "text/plain": [
       "<Figure size 640x480 with 1 Axes>"
      ]
     },
     "metadata": {},
     "output_type": "display_data"
    }
   ],
   "source": [
    "# Calculate the total actual revenue and total predicted revenue\n",
    "total_actual_revenue = y_test.sum(axis=0)\n",
    "total_predicted_revenue = y_pred.sum(axis=0)\n",
    "\n",
    "# Create a bar plot to compare total actual and predicted revenue for each product\n",
    "plt.bar(['S-P1', 'S-P2', 'S-P3', 'S-P4'], total_actual_revenue, label='Actual Revenue')\n",
    "plt.bar(['S-P1', 'S-P2', 'S-P3', 'S-P4'], total_predicted_revenue, label='Predicted Revenue', alpha=0.7)\n",
    "plt.xlabel(\"Products\")\n",
    "plt.ylabel(\"Total Revenue\")\n",
    "plt.title(\"Total Actual vs. Predicted Revenue\")\n",
    "plt.legend()\n",
    "plt.show()\n"
   ]
  },
  {
   "cell_type": "code",
   "execution_count": null,
   "metadata": {},
   "outputs": [],
   "source": []
  }
 ],
 "metadata": {
  "kernelspec": {
   "display_name": "Python 3",
   "language": "python",
   "name": "python3"
  },
  "language_info": {
   "codemirror_mode": {
    "name": "ipython",
    "version": 3
   },
   "file_extension": ".py",
   "mimetype": "text/x-python",
   "name": "python",
   "nbconvert_exporter": "python",
   "pygments_lexer": "ipython3",
   "version": "3.10.11"
  },
  "orig_nbformat": 4
 },
 "nbformat": 4,
 "nbformat_minor": 2
}
